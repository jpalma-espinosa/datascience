{
  "nbformat": 4,
  "nbformat_minor": 0,
  "metadata": {
    "kernelspec": {
      "display_name": "Python 3",
      "language": "python",
      "name": "python3"
    },
    "language_info": {
      "codemirror_mode": {
        "name": "ipython",
        "version": 3
      },
      "file_extension": ".py",
      "mimetype": "text/x-python",
      "name": "python",
      "nbconvert_exporter": "python",
      "pygments_lexer": "ipython3",
      "version": "3.8.5"
    },
    "colab": {
      "name": "Laboratorio - Distribucion Normal.ipynb",
      "provenance": [],
      "include_colab_link": true
    }
  },
  "cells": [
    {
      "cell_type": "markdown",
      "metadata": {
        "id": "view-in-github",
        "colab_type": "text"
      },
      "source": [
        "<a href=\"https://colab.research.google.com/github/jpalma-espinosa/datascience/blob/master/Laboratorio_Distribucion_Normal.ipynb\" target=\"_parent\"><img src=\"https://colab.research.google.com/assets/colab-badge.svg\" alt=\"Open In Colab\"/></a>"
      ]
    },
    {
      "cell_type": "markdown",
      "metadata": {
        "id": "XC9fpntRiF1g"
      },
      "source": [
        "# Laboratorio Distribución Normal\n",
        "\n",
        "- Profesor: Dr. Ing. Rodrigo Salas"
      ]
    },
    {
      "cell_type": "code",
      "metadata": {
        "id": "jQxNU8gNiF1l"
      },
      "source": [
        "import numpy as np\n",
        "import matplotlib.pyplot as plt\n",
        "import scipy.stats as stats\n",
        "%matplotlib inline"
      ],
      "execution_count": null,
      "outputs": []
    },
    {
      "cell_type": "markdown",
      "metadata": {
        "id": "U3kx57RniF1o"
      },
      "source": [
        "## Distribución Normal Univariada\n",
        "\n",
        "$$X\\sim Normal(\\mu, \\sigma^2)$$\n",
        "\n",
        "La función de densidad:\n",
        "\n",
        "$$f(x) = \\frac{1}{\\sqrt{2\\pi}\\sigma} e^{-\\frac{1}{2}\\frac{(x-\\mu)^2}{\\sigma^2}}$$"
      ]
    },
    {
      "cell_type": "code",
      "metadata": {
        "id": "6xUAEutFiF1q"
      },
      "source": [
        "mu = 5\n",
        "sigma = 2"
      ],
      "execution_count": null,
      "outputs": []
    },
    {
      "cell_type": "code",
      "metadata": {
        "colab": {
          "base_uri": "https://localhost:8080/"
        },
        "id": "r-GVSEanlrBm",
        "outputId": "7c3038be-4955-4a6a-c69f-5fe02c2e3ead"
      },
      "source": [
        "x"
      ],
      "execution_count": null,
      "outputs": [
        {
          "output_type": "execute_result",
          "data": {
            "text/plain": [
              "array([-3.  , -2.84, -2.68, -2.52, -2.36, -2.2 , -2.04, -1.88, -1.72,\n",
              "       -1.56, -1.4 , -1.24, -1.08, -0.92, -0.76, -0.6 , -0.44, -0.28,\n",
              "       -0.12,  0.04,  0.2 ,  0.36,  0.52,  0.68,  0.84,  1.  ,  1.16,\n",
              "        1.32,  1.48,  1.64,  1.8 ,  1.96,  2.12,  2.28,  2.44,  2.6 ,\n",
              "        2.76,  2.92,  3.08,  3.24,  3.4 ,  3.56,  3.72,  3.88,  4.04,\n",
              "        4.2 ,  4.36,  4.52,  4.68,  4.84,  5.  ,  5.16,  5.32,  5.48,\n",
              "        5.64,  5.8 ,  5.96,  6.12,  6.28,  6.44,  6.6 ,  6.76,  6.92,\n",
              "        7.08,  7.24,  7.4 ,  7.56,  7.72,  7.88,  8.04,  8.2 ,  8.36,\n",
              "        8.52,  8.68,  8.84,  9.  ,  9.16,  9.32,  9.48,  9.64,  9.8 ,\n",
              "        9.96, 10.12, 10.28, 10.44, 10.6 , 10.76, 10.92, 11.08, 11.24,\n",
              "       11.4 , 11.56, 11.72, 11.88, 12.04, 12.2 , 12.36, 12.52, 12.68,\n",
              "       12.84, 13.  ])"
            ]
          },
          "metadata": {
            "tags": []
          },
          "execution_count": 16
        }
      ]
    },
    {
      "cell_type": "code",
      "metadata": {
        "scrolled": true,
        "colab": {
          "base_uri": "https://localhost:8080/",
          "height": 279
        },
        "id": "7ZRLtnbDiF1s",
        "outputId": "63749c69-3759-4c2b-d5c5-c51f47be25b1"
      },
      "source": [
        "x = np.linspace(mu-4*sigma,mu+4*sigma, 101)\n",
        "fx = stats.norm.pdf(x, loc = mu, scale =sigma)\n",
        "fmu = stats.norm.pdf(mu, loc = mu, scale =sigma) # Punto Peak de la curva\n",
        "fsigma = stats.norm.pdf(mu+sigma, loc = mu, scale =sigma) # altura 1 sigma\n",
        "fsigma2 = stats.norm.pdf(mu+2*sigma, loc = mu, scale =sigma) # altura 1 sigma\n",
        "\n",
        "plt.plot(x,fx,'-b')\n",
        "plt.plot([mu,mu],[0,fmu],'--r')\n",
        "plt.plot([mu-sigma,mu+sigma],[fsigma,fsigma],'-.m')\n",
        "plt.plot([mu-2*sigma,mu+2*sigma],[fsigma2,fsigma2],'-.m')\n",
        "plt.xlabel('x')\n",
        "plt.ylabel('f(x)')\n",
        "plt.grid()"
      ],
      "execution_count": null,
      "outputs": [
        {
          "output_type": "display_data",
          "data": {
            "image/png": "[encoded data removed]",
            "text/plain": [
              "<Figure size 432x288 with 1 Axes>"
            ]
          },
          "metadata": {
            "tags": [],
            "needs_background": "light"
          }
        }
      ]
    },
    {
      "cell_type": "markdown",
      "metadata": {
        "id": "oEi_dqKaiF1t"
      },
      "source": [
        "Calcular la probabilidad \n",
        "\n",
        "$$P[\\mu-1\\sigma \\leq X\\leq \\mu+1\\sigma] = F(\\mu+1\\sigma) - F(\\mu-1\\sigma)$$"
      ]
    },
    {
      "cell_type": "code",
      "metadata": {
        "colab": {
          "base_uri": "https://localhost:8080/"
        },
        "id": "zs5gtpkIiF1v",
        "outputId": "511a593f-fca8-4c94-8be0-f0814b9ed949"
      },
      "source": [
        "stats.norm.cdf(mu+sigma, loc = mu, scale=sigma) - stats.norm.cdf(mu-sigma, loc = mu, scale=sigma)"
      ],
      "execution_count": null,
      "outputs": [
        {
          "output_type": "execute_result",
          "data": {
            "text/plain": [
              "0.6826894921370859"
            ]
          },
          "metadata": {
            "tags": []
          },
          "execution_count": 4
        }
      ]
    },
    {
      "cell_type": "markdown",
      "metadata": {
        "id": "YMUwiAANiF1w"
      },
      "source": [
        "La probabilidad con $2\\sigma$:"
      ]
    },
    {
      "cell_type": "code",
      "metadata": {
        "colab": {
          "base_uri": "https://localhost:8080/"
        },
        "id": "4zlhdFcJiF1x",
        "outputId": "7cbfe1eb-2f27-410f-881f-2a85cce091aa"
      },
      "source": [
        "stats.norm.cdf(mu+2*sigma, loc = mu, scale=sigma) - stats.norm.cdf(mu-2*sigma, loc = mu, scale=sigma)"
      ],
      "execution_count": null,
      "outputs": [
        {
          "output_type": "execute_result",
          "data": {
            "text/plain": [
              "0.9544997361036416"
            ]
          },
          "metadata": {
            "tags": []
          },
          "execution_count": 5
        }
      ]
    },
    {
      "cell_type": "markdown",
      "metadata": {
        "id": "OEMUQGJgiF10"
      },
      "source": [
        "La probabilidad con $3\\sigma$:"
      ]
    },
    {
      "cell_type": "code",
      "metadata": {
        "colab": {
          "base_uri": "https://localhost:8080/"
        },
        "id": "kOY8wYmUiF11",
        "outputId": "56afed05-04dc-444b-f0f0-9ff856869e6d"
      },
      "source": [
        "stats.norm.cdf(mu+3*sigma, loc = mu, scale=sigma) - stats.norm.cdf(mu-3*sigma, loc = mu, scale=sigma)"
      ],
      "execution_count": null,
      "outputs": [
        {
          "output_type": "execute_result",
          "data": {
            "text/plain": [
              "0.9973002039367398"
            ]
          },
          "metadata": {
            "tags": []
          },
          "execution_count": 6
        }
      ]
    },
    {
      "cell_type": "markdown",
      "metadata": {
        "id": "Otu0AtdjiF14"
      },
      "source": [
        "**Generación de números aleatorios**"
      ]
    },
    {
      "cell_type": "code",
      "metadata": {
        "id": "LGvTwTT5iF15"
      },
      "source": [
        "X = stats.norm(loc=mu, scale=sigma)\n",
        "D = X.rvs(1000)"
      ],
      "execution_count": null,
      "outputs": []
    },
    {
      "cell_type": "code",
      "metadata": {
        "colab": {
          "base_uri": "https://localhost:8080/"
        },
        "id": "6nA1U93kiF16",
        "outputId": "3996a2a5-b173-4565-8845-05d52b0da1de"
      },
      "source": [
        "D"
      ],
      "execution_count": null,
      "outputs": [
        {
          "output_type": "execute_result",
          "data": {
            "text/plain": [
              "array([ 1.47044301,  5.05301093,  6.31633501,  4.37742456,  6.45577298,\n",
              "        5.96107098,  2.28316672,  1.08038185,  3.28749149,  2.77302449,\n",
              "        2.57076917,  3.17024281,  5.40571768,  5.78400616,  7.5405769 ,\n",
              "        3.64200992,  2.83046117,  4.08264373,  4.28694825,  2.91064308,\n",
              "        6.99222304,  2.26588741,  1.51382954,  4.20119443,  4.45126717,\n",
              "        2.82082583,  6.93581459,  6.97141713,  3.95869812,  3.8513139 ,\n",
              "        6.72507109,  0.39858271,  6.58276551,  0.80449895,  4.69713618,\n",
              "        1.35515033,  3.19417371,  3.77300358,  2.15663288,  2.84681973,\n",
              "        3.13207704,  4.05989268,  3.7209111 ,  6.43154405,  3.84881618,\n",
              "        5.27981575,  6.1754462 ,  7.63919619,  4.55172751,  3.7414187 ,\n",
              "        4.466648  ,  1.94694873,  5.80068908,  3.23183979,  4.96640223,\n",
              "        2.31076018,  8.19818687,  4.16242902, 10.61005886,  6.52319554,\n",
              "        7.13747228,  4.9565461 ,  5.63199968,  6.03382915,  3.66875431,\n",
              "        5.09806246,  3.74399537,  1.70090811,  4.02203452,  9.9865631 ,\n",
              "        3.96428369,  2.25886444,  2.29869419,  4.99507529,  8.18266451,\n",
              "        7.84165326,  9.51674994,  3.87837898,  5.82419288,  1.84116204,\n",
              "        3.14455182,  6.27315302,  8.94631263,  7.27447013,  5.94676315,\n",
              "        5.39635074,  0.52506335,  9.26984293,  2.49303643,  8.0673895 ,\n",
              "        6.33350781,  3.46549152,  5.29756847,  1.78758264,  8.16855115,\n",
              "        4.20355853,  3.14983276,  5.62447349,  6.27050081,  2.63304524,\n",
              "        4.10995848,  5.55385947,  5.44584876,  6.94303708,  4.93577592,\n",
              "        8.28405723,  5.40722125,  5.49594547,  6.34743095,  2.36760059,\n",
              "        5.57704499,  4.30185326,  8.31573641,  4.48182671,  4.90609904,\n",
              "        6.01678139,  5.43189463,  7.20222423,  4.55645209,  1.15841352,\n",
              "        5.06141227,  5.31547604,  7.61358046,  3.96612562,  2.74438381,\n",
              "        5.86847735,  5.4819913 ,  5.75250853,  3.30796978,  3.87358089,\n",
              "        3.27413983,  8.05977167,  3.16703686,  4.0737786 ,  3.96397198,\n",
              "        3.93191481,  6.27493068,  2.36002288,  1.05163653,  6.90295335,\n",
              "        6.77716346,  4.65179358,  3.92762832,  2.30729609, -0.70184614,\n",
              "        3.25954065,  3.47834112,  2.38900808,  3.76318953,  7.15855528,\n",
              "        6.17753899,  7.66436879,  3.09162974,  8.14776735,  2.82729164,\n",
              "        1.31344765,  7.04393907,  7.18276876,  2.71679312,  1.46645148,\n",
              "        6.73100115,  1.19344503,  7.82180082,  0.8358783 ,  5.53554556,\n",
              "        6.59498819,  3.80714251,  3.28964882,  6.48075221,  4.43452028,\n",
              "        4.57017401,  5.39935044,  5.44982302,  2.20576371,  6.24428249,\n",
              "        7.00913475,  5.72455315,  3.62512303,  5.39876946,  6.28168756,\n",
              "        4.97586383, -0.48633175,  5.66358396,  5.44929757,  4.301466  ,\n",
              "        6.93519182,  6.62207143,  6.31699904,  4.21244578,  2.09346256,\n",
              "        2.36748847,  6.53193846,  6.5562636 ,  5.76198728,  3.23417198,\n",
              "        5.62995564,  5.8771557 ,  2.77264351,  2.90029044,  5.78835198,\n",
              "        7.26732169,  4.34183317,  0.99592479,  5.2799999 ,  3.88586721,\n",
              "        4.146118  ,  3.87548828,  6.46573346,  7.88172848,  1.8904665 ,\n",
              "        6.53798951,  5.09385711,  3.99033282,  4.83882353,  4.89916623,\n",
              "        4.04118041,  1.34085984,  6.29981041,  5.67757359,  8.27131448,\n",
              "        7.24940873,  3.73810539,  3.49942702,  5.71588784,  5.69171291,\n",
              "        4.54745178,  6.50526582,  4.58804386,  6.7890509 ,  6.48651408,\n",
              "        6.8060205 ,  8.3668849 ,  5.56940445,  3.66865393,  8.27456471,\n",
              "        2.02892958,  3.88477268,  6.20819997,  5.1447873 ,  2.96946808,\n",
              "        9.11819044,  4.31867253,  4.43742177,  3.19969062,  4.6205751 ,\n",
              "        7.38488315,  4.58888559,  4.26630114,  5.39799214,  5.75514584,\n",
              "        5.55337823,  5.0814271 ,  6.81927165,  5.79322746,  3.10444414,\n",
              "        1.96616931,  8.15145664,  7.02222386,  6.48863317,  3.76309689,\n",
              "        5.02176063,  5.82584482,  4.28707736,  5.73165592,  5.3584133 ,\n",
              "        5.84254167,  4.85964406,  5.18039228,  0.75678069,  4.06832635,\n",
              "        5.89560707,  5.14292609,  3.70747154,  3.904596  ,  7.1248755 ,\n",
              "        4.66468687,  5.36250199,  3.19595436,  3.4501016 ,  2.26635477,\n",
              "        5.5000413 ,  5.52573951,  2.56451528,  3.05756392,  5.91402225,\n",
              "        3.02680938,  4.63494515,  3.85544937,  2.51653604,  3.02649317,\n",
              "        4.2274355 ,  4.30037944,  4.50995271,  1.78993386,  5.27238094,\n",
              "        9.50807164,  3.86051199,  4.95110637,  4.59087249,  3.02158006,\n",
              "        2.57099332,  4.05529331,  8.11005031,  4.30906502,  4.27138688,\n",
              "        5.81452375,  8.35537395,  2.68371988,  5.46808079,  4.36627692,\n",
              "        9.89447006,  4.2559763 ,  6.26500727, -0.35094971,  2.96141162,\n",
              "        4.77409029,  8.42785414,  6.50459543,  3.42332155,  6.31759542,\n",
              "        6.03371034,  3.61534876,  3.25970143,  2.82457655,  4.32354471,\n",
              "        5.7722038 ,  6.29845597,  1.79855374,  3.74492628,  8.74418984,\n",
              "        3.64401057,  2.26397891,  7.40597536,  7.43216288,  7.83590008,\n",
              "        2.73896957,  3.85711605,  9.55901945,  1.787057  ,  1.34456734,\n",
              "        8.04234559,  2.97454899,  4.15814042,  4.50854703,  3.71678084,\n",
              "        5.1688125 ,  5.0111191 ,  5.31327193,  7.13609828,  5.05466628,\n",
              "        6.61861151,  3.87955468,  4.14137847,  5.06467425,  6.84356886,\n",
              "        3.57818684,  5.16192672,  7.85824049,  4.56470657,  7.1955639 ,\n",
              "        4.93940029,  4.38145574,  4.55016037,  4.76837861,  7.11702431,\n",
              "        0.74619661,  3.68314902,  5.10256306,  6.38530388,  5.38272493,\n",
              "        6.43371784,  7.09874169,  4.57280292,  4.46600055,  5.34294215,\n",
              "        2.19046739,  5.17222253,  1.45446813, -0.05187887,  7.16940733,\n",
              "        3.11018585,  3.4843162 ,  4.52409926,  4.08218922,  4.7141131 ,\n",
              "        8.54438747,  5.63591364,  1.83559293,  6.58720627,  5.15026107,\n",
              "        5.18457806,  5.19730052,  6.27724895,  8.66318729,  2.19540788,\n",
              "        4.4545953 ,  5.45535953,  3.85681536,  7.09629399,  5.51363108,\n",
              "        5.41967845,  7.02209719,  4.39176466,  6.03080155,  6.18263479,\n",
              "        2.94400442,  7.10314732,  3.57352676,  4.83448111,  6.56723751,\n",
              "        2.08375459,  8.45056276,  4.72987843,  5.32678472,  4.44448315,\n",
              "        6.97949952,  1.9731851 ,  4.85098454,  6.4300007 ,  7.57217467,\n",
              "        5.06009523,  4.31821503,  4.23203938,  3.97623637,  5.35006077,\n",
              "       -0.88016308,  8.48990992,  4.90991305,  6.69611888,  1.98286733,\n",
              "        8.57332227, 10.69267598,  7.89059632,  4.25139901,  5.01293493,\n",
              "        3.97011829,  6.95751862,  3.90351651,  3.06978283,  6.53804221,\n",
              "        6.8538091 ,  6.9959572 ,  6.05703801,  3.06116034,  2.93779237,\n",
              "        3.60010524,  6.74937892,  3.31918175,  7.38990799,  7.40970537,\n",
              "        5.38570576,  8.26267534,  8.41340108,  3.74135177,  5.95158008,\n",
              "        7.21963998,  1.84183109,  3.37956678,  5.58036697,  3.66503873,\n",
              "        2.62533848,  6.52087698,  0.80465696,  3.0601789 ,  5.00228665,\n",
              "        7.79278452,  7.7454232 ,  2.46878933,  3.93714383,  6.89102116,\n",
              "        7.6081293 ,  0.63755866,  4.32643401,  1.4265712 ,  6.05809759,\n",
              "        8.50251719,  8.34926335,  2.94665615,  4.59840559,  3.48664049,\n",
              "        9.02330911,  6.37616798,  3.52260842,  1.84859321,  5.14897355,\n",
              "        6.37333691,  5.81491422,  3.86118893,  6.08213241,  2.23375999,\n",
              "        2.28135491,  1.62199621,  5.4188739 ,  5.10558969,  2.82156527,\n",
              "        5.56658127,  1.73223104,  3.07391569,  5.50760337,  7.66291527,\n",
              "        6.68302513,  5.34363255,  2.82123315,  6.20566582,  5.27544172,\n",
              "        5.84682325,  1.36556535,  3.51184873,  1.82852645,  7.62288524,\n",
              "        6.11346433,  2.63471614,  2.73918654,  3.9015916 ,  6.58585489,\n",
              "        4.40218593,  5.40963655,  2.85130897,  7.28831187,  5.52006896,\n",
              "        5.2381718 ,  1.24422632,  5.09720538,  2.88480785,  3.96195346,\n",
              "        4.89078556,  5.07517542,  2.93253158,  3.96248238,  3.91320506,\n",
              "        9.31388931,  2.3055795 ,  5.63620247,  5.63381905,  8.25455593,\n",
              "        1.37720611,  3.97752608,  6.52185544,  2.62251984,  3.45734136,\n",
              "        4.44274918,  5.73112356,  5.21039663,  4.64461393,  4.85591671,\n",
              "        4.56061833,  2.58571158,  6.15944797,  2.97557009,  5.294667  ,\n",
              "        3.57547399,  5.8122715 ,  3.53731226,  3.98860229,  3.90353775,\n",
              "        4.38873235,  6.67122019,  4.45031168,  6.84956484,  3.20553096,\n",
              "        3.35578063,  3.91736681,  6.50019343,  2.45178807,  3.65164457,\n",
              "        1.22323718,  5.06669157,  1.8299409 ,  1.31870603,  4.97761511,\n",
              "        3.03152097,  2.24849219,  6.55608305,  5.18132809,  2.91830956,\n",
              "        3.0386978 ,  6.18826564,  6.14806871,  2.31531108,  5.6521475 ,\n",
              "        1.40179657,  6.45586666,  6.07076772,  4.38855477,  5.0059498 ,\n",
              "        5.51569109,  8.95683573,  4.32530923,  2.67532959,  6.70492005,\n",
              "        4.82909843,  5.64777086,  6.81204131,  3.75795647,  5.78105341,\n",
              "        7.73231774,  4.63933258,  4.57418517,  4.81881557,  7.52968109,\n",
              "        4.03755548,  4.05339328,  5.18456591,  4.26121231,  6.38338206,\n",
              "        8.3520171 ,  4.23381626,  5.19428344,  6.78614951,  3.393562  ,\n",
              "        6.93368785,  8.19564448,  2.75089794,  4.33327144,  5.73407466,\n",
              "        2.89526066,  4.25103165,  0.2553807 ,  3.40039955,  6.04139976,\n",
              "        6.92854512,  6.38763828,  3.56385563,  5.23375856,  7.15499788,\n",
              "        5.89691538,  4.81715622,  6.06031985,  8.40450913,  6.28151886,\n",
              "        3.9518801 ,  6.35418401,  5.99162886,  6.13157052,  3.82479579,\n",
              "        8.03954381,  4.23923962,  2.61605867,  3.78450011,  6.00460488,\n",
              "        3.93487646,  5.599973  ,  6.63906817,  6.03462298,  4.72852032,\n",
              "        2.97917276,  4.31057225,  3.38900452,  6.08602764,  3.41571477,\n",
              "        5.21174274,  3.68452979,  3.81695763,  5.37371871,  4.61841794,\n",
              "        1.64198501,  5.95020634,  8.22109581,  2.42278951,  6.36606289,\n",
              "        5.88202082,  6.17089783,  3.57749955,  5.0589322 ,  4.35505588,\n",
              "        3.78459033, 10.79335945,  4.8207142 ,  5.64425473,  1.70364811,\n",
              "        4.71559639,  1.08505836,  6.26246361,  6.4070642 ,  7.8906463 ,\n",
              "        3.14300784,  2.65951426,  2.34136749,  7.93336515,  4.76782582,\n",
              "        7.42517024,  6.94152563,  5.1826954 ,  6.2908674 ,  1.532393  ,\n",
              "        7.92403728,  3.94490106,  6.68245072,  7.95795442,  8.13259337,\n",
              "        0.39963919,  2.62413162,  4.84582001,  6.07245549,  5.97856831,\n",
              "        5.33038674,  1.45599331,  4.71014795,  3.9653649 ,  4.16775377,\n",
              "        7.16992415,  7.56059973,  3.81064457,  1.50798779,  1.82084343,\n",
              "        5.96251481,  4.64730559,  5.4200741 ,  3.88564419,  3.29261929,\n",
              "        6.64380772,  6.00550597,  5.48798169,  8.30424332,  9.37196154,\n",
              "        7.3205842 ,  1.76506884,  6.51596203,  2.4597819 ,  4.63582489,\n",
              "        4.8716624 ,  6.16107167,  4.48236514,  5.31215555,  7.21576422,\n",
              "        4.68262188,  6.41231463,  6.29688971,  1.73385633,  3.01988694,\n",
              "        2.59795899,  3.23102126,  7.70026006, 10.25682051,  5.9921004 ,\n",
              "        5.37650653,  7.30706912,  6.30460128,  5.07531078,  7.80165353,\n",
              "        4.75817294,  3.11521569,  0.90222125,  4.55277188,  5.62041939,\n",
              "        3.11618263,  2.88272816,  4.94380665,  9.06908257,  3.88151811,\n",
              "        4.93735303,  6.68830861,  5.85068829,  8.02774689,  6.48057674,\n",
              "        9.46384401,  7.71484597,  4.94081238,  3.74151297,  2.61608877,\n",
              "        5.18282881,  4.22532346,  6.14694249,  6.18608217,  6.95020648,\n",
              "        4.31345806,  4.05961093,  5.32177708,  7.01583843, -0.61696343,\n",
              "        6.19850104,  1.56084629,  8.85917108,  7.47601345,  2.77697933,\n",
              "        5.94712807,  3.81069852,  5.99809227,  5.08532715,  3.11227442,\n",
              "        5.60352812,  1.50692084,  5.37269475,  8.03757368,  3.35594006,\n",
              "        2.75229057,  5.52599513,  6.0176122 ,  3.57301709,  6.29620173,\n",
              "        4.51956044,  6.72386677,  5.02880944,  4.98668823,  3.11885557,\n",
              "        3.76302192,  3.64277725,  4.33961406,  3.60368687,  4.53813058,\n",
              "        8.4287567 ,  8.13111988,  4.22526749,  6.29902268,  7.80786844,\n",
              "        5.33654574,  7.88596767,  1.02192766,  6.20301852,  1.47320956,\n",
              "        6.92895532,  8.37604774,  4.90746581,  5.11990638,  3.26608099,\n",
              "        6.36751007,  6.23383775,  6.23562758,  5.98209446,  4.24718335,\n",
              "        2.4324124 ,  4.4737309 ,  3.95980862,  5.36367743,  5.66538477,\n",
              "        4.97652611,  4.39735406,  4.71597782,  5.78719106,  4.57824793,\n",
              "        7.51289776,  6.24486593,  4.99734382,  7.72615876,  2.88044037,\n",
              "        4.78261304,  4.86835729,  8.99004883,  3.13399572,  5.28550446,\n",
              "        2.7423844 ,  4.57173661,  6.31880512,  1.24215833, 11.48301252,\n",
              "        4.88730554,  7.40045898,  5.71407721,  5.90332644,  4.12098113,\n",
              "        8.13642146,  5.82951432,  3.89476176,  1.43794333,  6.6175997 ,\n",
              "        6.36872151,  2.3094782 ,  3.69189419,  2.23301475,  4.38729253,\n",
              "        5.05354951,  3.7173881 ,  4.69505929,  7.19696194,  9.16139452,\n",
              "        1.67883138,  2.96755596,  2.21326945,  9.66860811,  2.14942494,\n",
              "        1.00986219,  5.20903817,  3.3744237 ,  3.29952517,  2.09824474,\n",
              "        4.23366926,  2.92495063,  7.01365315,  3.50247902,  4.86219773,\n",
              "        7.39231598,  2.32164854,  4.35213837,  3.46720039,  5.64005355,\n",
              "        4.90898234,  0.78731118,  3.26664497,  3.87561411,  5.16144098,\n",
              "        8.67494819,  4.07346681,  2.81334622,  3.37230459,  7.83420841,\n",
              "        5.18296597,  3.96275937,  5.96656443,  4.53349104,  2.66393475,\n",
              "        3.31260594,  4.07074663,  4.21278925,  6.47555716,  4.95988745,\n",
              "        5.5402798 ,  5.16680944,  8.80699996,  5.32467649,  4.10778236,\n",
              "        4.30074133,  6.75045288,  8.8636637 ,  2.15994323,  6.84487104,\n",
              "        5.59049338,  3.65546688,  4.05138505,  5.9524299 ,  3.68900626,\n",
              "        3.42668739,  4.30893564,  3.45718828,  7.44832858,  2.2264884 ,\n",
              "        6.91748705,  1.81103754,  6.71057717,  5.17062866,  3.24912026,\n",
              "        7.1973396 ,  3.6893803 ,  5.17774854,  6.79497883,  4.99176569,\n",
              "        5.32225153,  0.90679308,  5.28375117,  8.2717556 ,  6.18018378,\n",
              "        3.5264339 ,  5.7976162 ,  1.34612682,  6.54009857,  7.74237201,\n",
              "        9.40959929,  5.1896572 ,  2.79036636,  4.94722479,  6.8071558 ,\n",
              "        1.68751747,  7.24723643,  3.42798777,  4.23416796,  2.94813476,\n",
              "        1.70794918,  2.76287509,  1.67876615,  4.79076238,  4.34527177,\n",
              "        7.95125877,  3.87440194,  4.02830346,  3.82670399,  5.60698023,\n",
              "        5.45941136,  6.9125566 ,  5.31989998,  3.71318268,  7.95936287,\n",
              "        3.04076227,  2.82088717,  3.09799177,  3.90984646,  7.97586655,\n",
              "        6.21267514,  6.02393971,  7.28120292,  8.07389065,  6.33792301,\n",
              "        3.10969279,  3.90972413,  7.60950106,  4.96516445,  3.46582995,\n",
              "        5.52053619,  6.73586191,  8.13506747,  4.97861552,  6.04626   ,\n",
              "        1.62427951,  5.93263852,  4.81808167,  4.8705585 ,  4.44305965,\n",
              "        4.18342884,  5.6235821 ,  6.27665064,  7.86953679,  6.86604271])"
            ]
          },
          "metadata": {
            "tags": []
          },
          "execution_count": 24
        }
      ]
    },
    {
      "cell_type": "code",
      "metadata": {
        "colab": {
          "base_uri": "https://localhost:8080/"
        },
        "id": "U_RKE2O6iF17",
        "outputId": "b8612e78-cb87-4d08-c2b5-da39b11906db"
      },
      "source": [
        "mu_estimado = np.mean(D)\n",
        "sigma_estimado = np.std(D) \n",
        "print('Parámetro mu estimado:', mu_estimado, '----- mu real:', mu)\n",
        "print('Parámetro sigma estimado:', sigma_estimado, '----- sigma real:', sigma)"
      ],
      "execution_count": null,
      "outputs": [
        {
          "output_type": "stream",
          "text": [
            "Parámetro mu estimado: 4.905585775940617 ----- mu real: 5\n",
            "Parámetro sigma estimado: 2.0137164746905283 ----- sigma real: 2\n"
          ],
          "name": "stdout"
        }
      ]
    },
    {
      "cell_type": "code",
      "metadata": {
        "scrolled": true,
        "colab": {
          "base_uri": "https://localhost:8080/",
          "height": 283
        },
        "id": "W-Gl8jygiF18",
        "outputId": "3e9014c5-6d00-4533-a90d-90375771c990"
      },
      "source": [
        "plt.hist(D, bins=20, density=True, rwidth=0.9)\n",
        "x = np.linspace(mu-4*sigma,mu+4*sigma, 101)\n",
        "fx = stats.norm.pdf(x, loc = mu, scale =sigma)\n",
        "plt.plot(x,fx,'r')\n",
        "fx_est = stats.norm.pdf(x, loc = mu_estimado, scale =sigma_estimado)\n",
        "plt.plot(x,fx_est,'g')"
      ],
      "execution_count": null,
      "outputs": [
        {
          "output_type": "execute_result",
          "data": {
            "text/plain": [
              "[<matplotlib.lines.Line2D at 0x7f96f8be6a10>]"
            ]
          },
          "metadata": {
            "tags": []
          },
          "execution_count": 26
        },
        {
          "output_type": "display_data",
          "data": {
            "image/png": "[encoded data removed]",
            "text/plain": [
              "<Figure size 432x288 with 1 Axes>"
            ]
          },
          "metadata": {
            "tags": [],
            "needs_background": "light"
          }
        }
      ]
    },
    {
      "cell_type": "markdown",
      "metadata": {
        "id": "AyBeIAXRiF19"
      },
      "source": [
        "EJEMPLO:\n",
        "\n",
        "$$X\\sim N(\\mu=100,\\sigma=20)$$\n",
        "\n",
        "- Generar 1000 números aleatorios\n",
        "- Graficar función de densidad\n",
        "- Graficar histograma "
      ]
    },
    {
      "cell_type": "code",
      "metadata": {
        "colab": {
          "base_uri": "https://localhost:8080/",
          "height": 283
        },
        "id": "yvAvssWEiF1_",
        "outputId": "fc8f5afe-d9ca-4469-cab2-e1c7a7cf3fb4"
      },
      "source": [
        "mu = 100\n",
        "sigma = 20\n",
        "X = stats.norm(loc = 100, scale= 20)  \n",
        "datos = X.rvs(1000)\n",
        "plt.hist(datos, bins=20, width=5, density= True)\n",
        "z = np.linspace(20,180, 100)\n",
        "fx = X.pdf(z)\n",
        "plt.plot(z,fx)"
      ],
      "execution_count": null,
      "outputs": [
        {
          "output_type": "execute_result",
          "data": {
            "text/plain": [
              "[<matplotlib.lines.Line2D at 0x7f96f8d5b990>]"
            ]
          },
          "metadata": {
            "tags": []
          },
          "execution_count": 27
        },
        {
          "output_type": "display_data",
          "data": {
            "image/png": "[encoded data removed]",
            "text/plain": [
              "<Figure size 432x288 with 1 Axes>"
            ]
          },
          "metadata": {
            "tags": [],
            "needs_background": "light"
          }
        }
      ]
    },
    {
      "cell_type": "markdown",
      "metadata": {
        "id": "AwgjfHariF2A"
      },
      "source": [
        "## Distribución Normal Bivariado\n",
        "\n",
        "$$X\\sim Normal(\\mu, \\Sigma)$$\n",
        "\n",
        "La función de densidad:\n",
        "\n",
        "$$f(x) = \\frac{1}{(2\\pi)^{d/2}|\\Sigma|^{1/2}} e^{-\\frac{1}{2}(x-\\mu)^T\\Sigma^{-1}(x-\\mu)}$$"
      ]
    },
    {
      "cell_type": "code",
      "metadata": {
        "id": "WHEGqv7-iF2B"
      },
      "source": [
        "n = 1000\n",
        "mu = [3,7]\n",
        "Sigma = [[4,3.6],[3.6,9]]"
      ],
      "execution_count": null,
      "outputs": []
    },
    {
      "cell_type": "markdown",
      "metadata": {
        "id": "Kl_JIR2GiF2C"
      },
      "source": [
        "$S_x = 2$, $V_x=4$, $S_y=3$, $V_y=9$\n",
        "\n",
        "$Cov(X,Y)=3.6$, $COV(X,Y) = \\rho * S_X * S_Y$, $\\rho = \\frac{3.6}{2*3}=0.6$ \n"
      ]
    },
    {
      "cell_type": "code",
      "metadata": {
        "id": "mnAl95NyiF2D"
      },
      "source": [
        "sigma_x = np.sqrt(Sigma[0][0])\n",
        "sigma_y = np.sqrt(Sigma[1][1])"
      ],
      "execution_count": null,
      "outputs": []
    },
    {
      "cell_type": "code",
      "metadata": {
        "colab": {
          "base_uri": "https://localhost:8080/",
          "height": 283
        },
        "id": "A5qO6x5TiF2E",
        "outputId": "4eb3c6f0-c6b0-485d-ca85-3530b10647c9"
      },
      "source": [
        "X = np.random.multivariate_normal(mu, Sigma,n)\n",
        "plt.plot(X[:,0],X[:,1],'.b')\n",
        "plt.plot(mu[0],mu[1],'*r')\n",
        "plt.plot([mu[0]-sigma_x,mu[0]+sigma_x],[mu[1]-sigma_y,mu[1]-sigma_y],'-r' )\n",
        "plt.plot([mu[0]-sigma_x,mu[0]+sigma_x],[mu[1]+sigma_y,mu[1]+sigma_y],'-r' )\n",
        "plt.plot([mu[0]-sigma_x,mu[0]-sigma_x],[mu[1]-sigma_y,mu[1]+sigma_y],'-r' )\n",
        "plt.plot([mu[0]+sigma_x,mu[0]+sigma_x],[mu[1]-sigma_y,mu[1]+sigma_y],'-r' )\n",
        "plt.plot([mu[0]-sigma_x,mu[0]+sigma_x],[mu[1]-sigma_y,mu[1]+sigma_y],'-y' )\n",
        "plt.grid()\n",
        "plt.axis('square')"
      ],
      "execution_count": null,
      "outputs": [
        {
          "output_type": "execute_result",
          "data": {
            "text/plain": [
              "(-4.049335248267295, 16.61680464450478, -3.72183819372258, 16.944301699049493)"
            ]
          },
          "metadata": {
            "tags": []
          },
          "execution_count": 30
        },
        {
          "output_type": "display_data",
          "data": {
            "image/png": "[encoded data removed]",
            "text/plain": [
              "<Figure size 432x288 with 1 Axes>"
            ]
          },
          "metadata": {
            "tags": [],
            "needs_background": "light"
          }
        }
      ]
    },
    {
      "cell_type": "code",
      "metadata": {
        "id": "PJSS_jEtiF2E"
      },
      "source": [
        "X"
      ],
      "execution_count": null,
      "outputs": []
    },
    {
      "cell_type": "markdown",
      "metadata": {
        "id": "PjZsCZJuiF2G"
      },
      "source": [
        "## Clusters Bivariados"
      ]
    },
    {
      "cell_type": "code",
      "metadata": {
        "id": "zju2B0jbiF2H"
      },
      "source": [
        "n1 = 100\n",
        "mu1 = [3,7]\n",
        "Sigma1 = [[4,3.6],[3.6,9]]\n",
        "n2 = 50\n",
        "mu2 = [6,1]\n",
        "Sigma2 = [[4,-3.2],[-3.2,4]]"
      ],
      "execution_count": null,
      "outputs": []
    },
    {
      "cell_type": "code",
      "metadata": {
        "id": "_0jq1F7ZiF2H"
      },
      "source": [
        "plt.figure(figsize=(7,7))\n",
        "X1 = np.random.multivariate_normal(mu1, Sigma1,n1)\n",
        "plt.plot(X1[:,0],X1[:,1],'.b')\n",
        "plt.plot(mu1[0],mu1[1],'*r')\n",
        "\n",
        "X2 = np.random.multivariate_normal(mu2, Sigma2,n2)\n",
        "plt.plot(X2[:,0],X2[:,1],'.c')\n",
        "plt.plot(mu2[0],mu2[1],'*m')\n",
        "plt.axis('square')\n",
        "plt.grid()"
      ],
      "execution_count": null,
      "outputs": []
    },
    {
      "cell_type": "code",
      "metadata": {
        "id": "BsoKmjQOiF2J"
      },
      "source": [
        ""
      ],
      "execution_count": null,
      "outputs": []
    },
    {
      "cell_type": "markdown",
      "metadata": {
        "id": "AqIztCcto6rB"
      },
      "source": [
        "Tarea\n",
        "\n",
        "Generar un tercer cluster con 100 datos localizado en 15,10, con desviación estandar en x igual a 3, desviación estandar en y igual a 4, y correlación  de 0.3"
      ]
    },
    {
      "cell_type": "code",
      "metadata": {
        "id": "bbIbhRZspE7h"
      },
      "source": [
        ""
      ],
      "execution_count": null,
      "outputs": []
    }
  ]
}