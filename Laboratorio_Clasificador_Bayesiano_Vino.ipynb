{
  "nbformat": 4,
  "nbformat_minor": 0,
  "metadata": {
    "kernelspec": {
      "display_name": "Python 3",
      "language": "python",
      "name": "python3"
    },
    "language_info": {
      "codemirror_mode": {
        "name": "ipython",
        "version": 3
      },
      "file_extension": ".py",
      "mimetype": "text/x-python",
      "name": "python",
      "nbconvert_exporter": "python",
      "pygments_lexer": "ipython3",
      "version": "3.8.5"
    },
    "colab": {
      "name": "Laboratorio - Clasificador Bayesiano - Vino.ipynb",
      "provenance": [],
      "include_colab_link": true
    }
  },
  "cells": [
    {
      "cell_type": "markdown",
      "metadata": {
        "id": "view-in-github",
        "colab_type": "text"
      },
      "source": [
        "<a href=\"https://colab.research.google.com/github/jpalma-espinosa/datascience/blob/master/Laboratorio_Clasificador_Bayesiano_Vino.ipynb\" target=\"_parent\"><img src=\"https://colab.research.google.com/assets/colab-badge.svg\" alt=\"Open In Colab\"/></a>"
      ]
    },
    {
      "cell_type": "markdown",
      "metadata": {
        "id": "3P7RbFHY2Dxs"
      },
      "source": [
        "# Clasificador Bayesiano aplicado al Vino\n",
        "\n",
        "- Profesor: Dr. Ing. Rodrigo Salas\n",
        "- Curso: Minería de Datos\n",
        "\n",
        "Predicción de la calidad del Vino en base a las propiedades físico-químicas\n",
        "   \n",
        "\n",
        "- Fuente: El conjunto de datos fue creado por P. Cortez, A. Cerdeira, F. Almeida, T. Matos y J. Reis.\n",
        "- Información: Los dos conjuntos de datos están relacionados con las variantes de vino blanco y tinto del vino portugués \"Vinho Verde\". Se dispone de la información físico-química (entradas) y de la información sensorial (salida)\n",
        "- De la tabla de datos, cada fila corresponde a un registro del tipo de vino y cada columna a algún atributo físico químico. 1599 datos son vino tinto y 4898 datos son vino blanco.\n",
        "- El objetivo es clasificar la calidad del vino según sus propiedades físico-químicas.\n",
        "    \n",
        "\n",
        "Repositorio de datos \n",
        "http://archive.ics.uci.edu/ml/index.php\n",
        "\n",
        "Conjunto de datos de la Calidad del Vino\n",
        "https://archive.ics.uci.edu/ml/datasets/wine+quality\n",
        "\n",
        "1. fixed acidity \n",
        "2. volatile acidity \n",
        "3. citric acid \n",
        "4. residual sugar \n",
        "5. chlorides \n",
        "6. free sulfur dioxide \n",
        "7. total sulfur dioxide \n",
        "8. density \n",
        "9. pH \n",
        "10. sulphates \n",
        "11. alcohol \n",
        "\n",
        "Variable de salida:\n",
        "\n",
        "12. quality (score between 0 and 10)"
      ]
    },
    {
      "cell_type": "code",
      "metadata": {
        "id": "kdhT-At82Dx_"
      },
      "source": [
        "# Conjuntos de datos almacenados en Toolbox\n",
        "from sklearn import datasets  \n",
        "# Separación del conjunto de datos en conjunto de entrenamiento y test\n",
        "from sklearn.model_selection import train_test_split \n",
        "# Método para reescalar los datos\n",
        "from sklearn.preprocessing import StandardScaler\n",
        "# Paquete numérico para el procesamiento de datos\n",
        "import numpy as np\n",
        "# Paquete para realizar los gráficos \n",
        "import matplotlib.pyplot as plt\n",
        "# Paquete para el manejo de datos\n",
        "import pandas as pd\n",
        "import seaborn as sns\n",
        "\n",
        "from sklearn.metrics import confusion_matrix\n",
        "from sklearn.metrics import plot_confusion_matrix\n",
        "from sklearn.metrics import accuracy_score\n",
        "\n",
        "%matplotlib inline\n"
      ],
      "execution_count": null,
      "outputs": []
    },
    {
      "cell_type": "code",
      "metadata": {
        "id": "S9U33Uoi2DyB"
      },
      "source": [
        "df = pd.read_csv('winequality-red.csv', sep=';')"
      ],
      "execution_count": null,
      "outputs": []
    },
    {
      "cell_type": "code",
      "metadata": {
        "id": "dM7Op70f2DyB"
      },
      "source": [
        "df"
      ],
      "execution_count": null,
      "outputs": []
    },
    {
      "cell_type": "code",
      "metadata": {
        "id": "G6rL3fpt2DyC"
      },
      "source": [
        "y = (df['quality']>5).astype('uint8')\n",
        "X = df.values[:,:-1]"
      ],
      "execution_count": null,
      "outputs": []
    },
    {
      "cell_type": "code",
      "metadata": {
        "id": "UXSRDvTp2DyC"
      },
      "source": [
        "sum(y)"
      ],
      "execution_count": null,
      "outputs": []
    },
    {
      "cell_type": "code",
      "metadata": {
        "id": "MGSJID5T2DyC"
      },
      "source": [
        "855/1599"
      ],
      "execution_count": null,
      "outputs": []
    },
    {
      "cell_type": "code",
      "metadata": {
        "id": "aJi8AhzT2DyD"
      },
      "source": [
        "df['Class']=y\n",
        "df = df.drop(columns='quality')"
      ],
      "execution_count": null,
      "outputs": []
    },
    {
      "cell_type": "code",
      "metadata": {
        "id": "TRXRbz2Z2DyD"
      },
      "source": [
        "df"
      ],
      "execution_count": null,
      "outputs": []
    },
    {
      "cell_type": "code",
      "metadata": {
        "id": "6AG_ZQKA2DyE"
      },
      "source": [
        "sns.pairplot(df, hue='Class')"
      ],
      "execution_count": null,
      "outputs": []
    },
    {
      "cell_type": "markdown",
      "metadata": {
        "id": "RFcqCeWq2DyE"
      },
      "source": [
        "**Separación de los datos en conjunto de entrenamientos y test**\n",
        "\n",
        "Con el fin de evaluar el desempeño del clasificador con datos que no se le han presentado previamente, el conjunto de datos se separa en entrenamiento y test."
      ]
    },
    {
      "cell_type": "code",
      "metadata": {
        "id": "4dL_0WLY2DyF"
      },
      "source": [
        "X_entrenamiento, X_test, y_entrenamiento, y_test = train_test_split(X, y, test_size = 0.4, random_state=0)"
      ],
      "execution_count": null,
      "outputs": []
    },
    {
      "cell_type": "markdown",
      "metadata": {
        "id": "FEUeU0r62DyF"
      },
      "source": [
        "**Reescalamiento de las características**\n",
        "\n",
        "Con el fin de que todos los atributos tenga igual importancia al entrenar un clasificador, y debido a que los clasificadores están optimizados para los datos escalados. Procederemos a reescalar los datos.\n",
        "\n",
        "En particular, el escalamiento que se aplicará es centrar los datos en 0 y cambiar su variabilidad a 1:\n",
        "\n",
        "$$Z=\\frac{X - \\overline{X}}{S_{X}}$$\n",
        "\n",
        "donde $\\overline{X}$ corresponde al promedio de los datos y $S_{X}$ a la desviación estándar de los datos de entrada."
      ]
    },
    {
      "cell_type": "code",
      "metadata": {
        "id": "i17aWtzg2DyG"
      },
      "source": [
        "sc = StandardScaler()\n",
        "# Los datos son reescalado con respecto a los datos de entrenamiento\n",
        "sc.fit(X_entrenamiento) \n",
        "# Tanto el conjunto de entrenamiento como el de test son reescalados\n",
        "Z_entrenamiento = sc.transform(X_entrenamiento)\n",
        "Z_test = sc.transform(X_test)"
      ],
      "execution_count": null,
      "outputs": []
    },
    {
      "cell_type": "markdown",
      "metadata": {
        "id": "t8wg1sJ62DyG"
      },
      "source": [
        "**Clasificador LDA**"
      ]
    },
    {
      "cell_type": "code",
      "metadata": {
        "id": "Mzs3GmmB2DyH"
      },
      "source": [
        "from sklearn.discriminant_analysis import LinearDiscriminantAnalysis\n",
        "from sklearn.discriminant_analysis import QuadraticDiscriminantAnalysis"
      ],
      "execution_count": null,
      "outputs": []
    },
    {
      "cell_type": "code",
      "metadata": {
        "id": "eFxjJrRF2DyH"
      },
      "source": [
        "lda = LinearDiscriminantAnalysis(solver=\"svd\")\n",
        "y_train = lda.fit(Z_entrenamiento, y_entrenamiento).predict(Z_entrenamiento)\n",
        "confusion_matrix(y_train, y_entrenamiento)"
      ],
      "execution_count": null,
      "outputs": []
    },
    {
      "cell_type": "code",
      "metadata": {
        "id": "ZLBxE9K12DyI"
      },
      "source": [
        "y_pred = lda.predict(Z_test)\n",
        "confusion_matrix(y_test, y_pred)"
      ],
      "execution_count": null,
      "outputs": []
    },
    {
      "cell_type": "code",
      "metadata": {
        "id": "U1YuzXrF2DyJ"
      },
      "source": [
        "tn, fp, fn, tp = confusion_matrix(y_test, y_pred).ravel()"
      ],
      "execution_count": null,
      "outputs": []
    },
    {
      "cell_type": "code",
      "metadata": {
        "id": "M0juL8BJ2DyJ"
      },
      "source": [
        "accuracy_score(y_pred, y_test)"
      ],
      "execution_count": null,
      "outputs": []
    },
    {
      "cell_type": "code",
      "metadata": {
        "id": "mG2Pv1T72DyJ"
      },
      "source": [
        "plot_confusion_matrix(lda, Z_test, y_test,values_format='d') "
      ],
      "execution_count": null,
      "outputs": []
    },
    {
      "cell_type": "markdown",
      "metadata": {
        "id": "oN6SIDlq2DyK"
      },
      "source": [
        "**Clasificador QDA**"
      ]
    },
    {
      "cell_type": "code",
      "metadata": {
        "id": "lSjFv1Fw2DyK"
      },
      "source": [
        "qda = QuadraticDiscriminantAnalysis(store_covariance=True)\n",
        "y_train = qda.fit(Z_entrenamiento, y_entrenamiento).predict(Z_entrenamiento)\n",
        "confusion_matrix(y_entrenamiento,y_train)"
      ],
      "execution_count": null,
      "outputs": []
    },
    {
      "cell_type": "code",
      "metadata": {
        "id": "bank4vv52DyK"
      },
      "source": [
        "y_pred = qda.predict(Z_test)\n",
        "confusion_matrix(y_test, y_pred)"
      ],
      "execution_count": null,
      "outputs": []
    },
    {
      "cell_type": "code",
      "metadata": {
        "id": "Il-5Hgxo2DyL"
      },
      "source": [
        "accuracy_score(y_pred, y_test)"
      ],
      "execution_count": null,
      "outputs": []
    },
    {
      "cell_type": "code",
      "metadata": {
        "id": "yPz0NF0o2DyL"
      },
      "source": [
        "plot_confusion_matrix(qda, Z_test, y_test, values_format='d') "
      ],
      "execution_count": null,
      "outputs": []
    },
    {
      "cell_type": "code",
      "metadata": {
        "id": "E3LloOgi2DyL"
      },
      "source": [
        "11*11"
      ],
      "execution_count": null,
      "outputs": []
    },
    {
      "cell_type": "code",
      "metadata": {
        "id": "21cWFMDS2DyM"
      },
      "source": [
        "55+11"
      ],
      "execution_count": null,
      "outputs": []
    },
    {
      "cell_type": "code",
      "metadata": {
        "id": "o0PmQvJG2DyM"
      },
      "source": [
        "len(y_train)"
      ],
      "execution_count": null,
      "outputs": []
    },
    {
      "cell_type": "code",
      "metadata": {
        "id": "rd5BYRmC2DyM"
      },
      "source": [
        "959/66"
      ],
      "execution_count": null,
      "outputs": []
    },
    {
      "cell_type": "code",
      "metadata": {
        "id": "2XXaXCmR2DyM"
      },
      "source": [
        ""
      ],
      "execution_count": null,
      "outputs": []
    }
  ]
}