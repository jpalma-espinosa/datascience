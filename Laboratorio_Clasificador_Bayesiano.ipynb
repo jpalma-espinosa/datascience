{
  "nbformat": 4,
  "nbformat_minor": 0,
  "metadata": {
    "kernelspec": {
      "display_name": "Python 3",
      "language": "python",
      "name": "python3"
    },
    "language_info": {
      "codemirror_mode": {
        "name": "ipython",
        "version": 3
      },
      "file_extension": ".py",
      "mimetype": "text/x-python",
      "name": "python",
      "nbconvert_exporter": "python",
      "pygments_lexer": "ipython3",
      "version": "3.8.5"
    },
    "colab": {
      "name": "Laboratorio - Clasificador_Bayesiano.ipynb",
      "provenance": [],
      "include_colab_link": true
    }
  },
  "cells": [
    {
      "cell_type": "markdown",
      "metadata": {
        "id": "view-in-github",
        "colab_type": "text"
      },
      "source": [
        "<a href=\"https://colab.research.google.com/github/jpalma-espinosa/datascience/blob/master/Laboratorio_Clasificador_Bayesiano.ipynb\" target=\"_parent\"><img src=\"https://colab.research.google.com/assets/colab-badge.svg\" alt=\"Open In Colab\"/></a>"
      ]
    },
    {
      "cell_type": "markdown",
      "metadata": {
        "id": "FJ0t-jjBiu4l"
      },
      "source": [
        "# Clasificador Bayesiano\n",
        "\n",
        "- Profesor: Dr. Ing. Rodrigo Salas\n",
        "- Curso: Minería de Datos"
      ]
    },
    {
      "cell_type": "code",
      "metadata": {
        "id": "WeQsYGlNiu40"
      },
      "source": [
        "import numpy as np\n",
        "import matplotlib.pyplot as plt\n",
        "import scipy.stats as stats\n",
        "%matplotlib inline"
      ],
      "execution_count": null,
      "outputs": []
    },
    {
      "cell_type": "markdown",
      "metadata": {
        "id": "MrR7q8e3iu42"
      },
      "source": [
        "### Caso 1: Estudio Univariado\n",
        "\n",
        "Se tienen dos clases $w_0$ y $w_1$ con atributo $x \\in \\mathbb{R}$. Asumiremos que cada clase tiene una distribución gaussiana:\n",
        "\n",
        "$$P(x|w_0) = \\frac{1}{\\sqrt{2\\pi} \\sigma_0} e^{-\\frac{1}{2} \\frac{(x-\\mu_0)^2}{\\sigma_0^2}}$$\n",
        "\n",
        "donde la clase $w_0$ está determinada por los parámetros $\\mu_0$ y $\\sigma_0$.\n",
        "\n",
        "$$P(x|w_1) = \\frac{1}{\\sqrt{2\\pi} \\sigma_1} e^{-\\frac{1}{2} \\frac{(x-\\mu_1)^2}{\\sigma_1^2}}$$\n",
        "\n",
        "donde la clase $w_1$ está determinada por los parámetros $\\mu_1$ y $\\sigma_1$."
      ]
    },
    {
      "cell_type": "markdown",
      "metadata": {
        "id": "DwsS74CZiu43"
      },
      "source": [
        "Parámetros de las clases 0 y 1"
      ]
    },
    {
      "cell_type": "code",
      "metadata": {
        "id": "sltC99l1iu43"
      },
      "source": [
        "# Parámetros de la Clase w_0\n",
        "mu0 = 0\n",
        "sigma0 = 1\n",
        "#Parámetros de la Clase w_1\n",
        "mu1 = 3\n",
        "sigma1 = 1"
      ],
      "execution_count": null,
      "outputs": []
    },
    {
      "cell_type": "code",
      "metadata": {
        "id": "IGnXfhrLiu44"
      },
      "source": [
        "z = np.linspace(-5,8,100)\n",
        "x1 = stats.norm.pdf(z, loc =mu0, scale=sigma0)\n",
        "plt.plot(z,x1,'-b')\n",
        "x2 = stats.norm.pdf(z, loc = mu1, scale = sigma1)\n",
        "plt.plot(z,x2,'-r')"
      ],
      "execution_count": null,
      "outputs": []
    },
    {
      "cell_type": "markdown",
      "metadata": {
        "id": "kkJXwZzAiu44"
      },
      "source": [
        "Probabilidades a-priori de cada clase"
      ]
    },
    {
      "cell_type": "code",
      "metadata": {
        "id": "e6IZi7k2iu45"
      },
      "source": [
        "p_w0 = 0.7\n",
        "p_w1 = 0.3"
      ],
      "execution_count": null,
      "outputs": []
    },
    {
      "cell_type": "markdown",
      "metadata": {
        "id": "S_SfCNuliu46"
      },
      "source": [
        "Aplicando el Teorema de Bayes:\n",
        "\n",
        "$$P(w|x) = \\frac{p(x|w)p(w)}{p(x)}$$\n",
        "\n",
        "y descartando el factor de normalización $p(x)$"
      ]
    },
    {
      "cell_type": "code",
      "metadata": {
        "id": "RSt5bnDOiu47"
      },
      "source": [
        "p_w0_x = x1 * p_w0\n",
        "p_w1_x = x2 * p_w1\n",
        "plt.plot(z,p_w0_x,'-b')\n",
        "plt.plot(z,p_w1_x,'-r')"
      ],
      "execution_count": null,
      "outputs": []
    },
    {
      "cell_type": "markdown",
      "metadata": {
        "id": "BUnnE6vQiu49"
      },
      "source": [
        "### Clasificación con distribución conocida\n",
        "\n",
        "Asumiendo que conocemos los parámetros $\\mu$ y $\\sigma$ de cada clase, deseamos clasificar un nuevo punto"
      ]
    },
    {
      "cell_type": "code",
      "metadata": {
        "id": "dKS1EZxaiu4-"
      },
      "source": [
        "nuevo_x = 1.5"
      ],
      "execution_count": null,
      "outputs": []
    },
    {
      "cell_type": "code",
      "metadata": {
        "id": "aL4p_v62iu4-"
      },
      "source": [
        "# Calculamos la verosimilitud del nuevo dato \n",
        "#a cada una de las clasews\n",
        "p_x_w0 = stats.norm.pdf(nuevo_x,loc = mu0, scale = sigma0)\n",
        "p_x_w1 = stats.norm.pdf(nuevo_x,loc = mu1, scale = sigma1)\n",
        "\n",
        "# Aplicamos Bayes y descartamos la normalizacion p(x)\n",
        "p_w0_x = p_x_w0 * p_w0\n",
        "p_w1_x = p_x_w1 * p_w1\n",
        "\n",
        "print(\"\"\"El score de la clase 0 es %f, el score de \n",
        "      la clase 1 es %f\"\"\" %(p_w0_x,p_w1_x))\n"
      ],
      "execution_count": null,
      "outputs": []
    },
    {
      "cell_type": "code",
      "metadata": {
        "id": "hhNcqlDiiu4_"
      },
      "source": [
        "# Regla de decisión (Clasificador)\n",
        "if p_w0_x>p_w1_x:\n",
        "    decision = 0\n",
        "else:\n",
        "    decision = 1\n",
        "    \n",
        "print(\"El dato %f pertenece a la clase %d\" %(nuevo_x, decision))"
      ],
      "execution_count": null,
      "outputs": []
    },
    {
      "cell_type": "markdown",
      "metadata": {
        "id": "XQqH1RFniu4_"
      },
      "source": [
        "### Simulando los datos de dos clases"
      ]
    },
    {
      "cell_type": "code",
      "metadata": {
        "id": "1y3jBXUoiu4_"
      },
      "source": [
        "n_0 = 100\n",
        "n_1 = 100\n",
        "datos_clase_0 = stats.norm.rvs(loc=mu0, scale = sigma0, size=n_0)\n",
        "datos_clase_1 = stats.norm.rvs(loc=mu1, scale = sigma1, size=n_1)"
      ],
      "execution_count": null,
      "outputs": []
    },
    {
      "cell_type": "code",
      "metadata": {
        "id": "ZaNs6ml0iu5A"
      },
      "source": [
        "plt.hist(datos_clase_0, bins=10, density= True, alpha =0.8)\n",
        "plt.hist(datos_clase_1, bins=10, density= True, alpha =0.8)"
      ],
      "execution_count": null,
      "outputs": []
    },
    {
      "cell_type": "markdown",
      "metadata": {
        "id": "HNX-ZSsiiu5A"
      },
      "source": [
        "En la práctica no se conocen los parámetros de las clases (mu0, sigma0, mu1, sigma1), por lo cual estos deben ser estimado a partir de los datos.\n",
        "\n",
        "En inferencia estadística se ha demostrado que el estimador máximo verosímil de la media es el promedio:\n",
        "\n",
        "$$\\hat{\\mu} = \\frac{1}{n} \\sum_{i=0}^n x_i = \\overline{X}$$\n",
        "\n",
        "En inferencia estadística se ha demostrado que el estimador insesgado de la varianza es la varianza muestral:\n",
        "\n",
        "$$\\hat{\\sigma}^2 = \\frac{1}{n-1} \\sum_{i=0}^n (x_i - \\overline{X})^2 = S_{n-1}^2$$"
      ]
    },
    {
      "cell_type": "code",
      "metadata": {
        "id": "leHMFGWaiu5B"
      },
      "source": [
        "# Estimando los parámetros de la clase 1 \n",
        "mu_0 = np.mean(datos_clase_0)\n",
        "sigma_0 = np.std(datos_clase_0)\n",
        "mu_1 = np.mean(datos_clase_1)\n",
        "sigma_1 = np.std(datos_clase_1)\n",
        "print(\"Clase 0: media real %f ; media estimada %f\" %(mu0, mu_0))\n",
        "print(\"Clase 0: std real %f ; std estimada %f\" %(sigma0, sigma_0))\n",
        "print(\"Clase 1: media real %f ; media estimada %f\" %(mu1, mu_1))\n",
        "print(\"Clase 1: std real %f ; std estimada %f\" %(sigma1, sigma_1))"
      ],
      "execution_count": null,
      "outputs": []
    },
    {
      "cell_type": "code",
      "metadata": {
        "id": "iZtHb5jWiu5C"
      },
      "source": [
        "plt.hist(datos_clase_0, bins=10, density= True, alpha =0.8)\n",
        "plt.hist(datos_clase_1, bins=10, density= True, alpha =0.8)\n",
        "z = np.linspace(-5,8,100)\n",
        "x_1 = stats.norm.pdf(z, loc =mu_0, scale=sigma_0)\n",
        "plt.plot(z,x_1,'-b')\n",
        "x_2 = stats.norm.pdf(z, loc = mu_1, scale = sigma_1)\n",
        "plt.plot(z,x_2,'-r')"
      ],
      "execution_count": null,
      "outputs": []
    },
    {
      "cell_type": "markdown",
      "metadata": {
        "id": "a912EYKBiu5D"
      },
      "source": [
        "Clasificación de un nuevo dato"
      ]
    },
    {
      "cell_type": "code",
      "metadata": {
        "id": "2oMps_n6iu5D"
      },
      "source": [
        "nuevo_x = 1.74521282\n",
        "#nuevo_x = 1.5"
      ],
      "execution_count": null,
      "outputs": []
    },
    {
      "cell_type": "code",
      "metadata": {
        "id": "6H_7CPnziu5D"
      },
      "source": [
        "# Calculamos la verosimilitud del nuevo dato \n",
        "#a cada una de las clasews\n",
        "p_x_w0 = stats.norm.pdf(nuevo_x,loc = mu_0, scale = sigma_0)\n",
        "p_x_w1 = stats.norm.pdf(nuevo_x,loc = mu_1, scale = sigma_1)\n",
        "\n",
        "# Aplicamos Bayes y descartamos la normalizacion p(x)\n",
        "p_w0_x = p_x_w0 * p_w0\n",
        "p_w1_x = p_x_w1 * p_w1\n",
        "\n",
        "print(\"\"\"El score de la clase 0 es %f, el score de \n",
        "      la clase 1 es %f\"\"\" %(p_w0_x,p_w1_x))"
      ],
      "execution_count": null,
      "outputs": []
    },
    {
      "cell_type": "code",
      "metadata": {
        "id": "gYJ_CktViu5E"
      },
      "source": [
        "# Regla de decisión (Clasificador)\n",
        "if p_w0_x>p_w1_x:\n",
        "    decision = 0\n",
        "else:\n",
        "    decision = 1\n",
        "    \n",
        "print(\"El dato %f pertenece a la clase %d\" %(nuevo_x, decision))"
      ],
      "execution_count": null,
      "outputs": []
    },
    {
      "cell_type": "markdown",
      "metadata": {
        "id": "G46BAPKTiu5F"
      },
      "source": [
        "### Calcular la Frontera de Decisión"
      ]
    },
    {
      "cell_type": "code",
      "metadata": {
        "id": "HyCcZJVsiu5F"
      },
      "source": [
        "sigma_0"
      ],
      "execution_count": null,
      "outputs": []
    },
    {
      "cell_type": "code",
      "metadata": {
        "id": "12GHV8spiu5F"
      },
      "source": [
        "mu_0"
      ],
      "execution_count": null,
      "outputs": []
    },
    {
      "cell_type": "code",
      "metadata": {
        "id": "JeV1Juwgiu5G"
      },
      "source": [
        "sigma_1"
      ],
      "execution_count": null,
      "outputs": []
    },
    {
      "cell_type": "code",
      "metadata": {
        "id": "VJiWsyiniu5G"
      },
      "source": [
        "mu_1"
      ],
      "execution_count": null,
      "outputs": []
    },
    {
      "cell_type": "code",
      "metadata": {
        "id": "0Y91Yk6giu5G"
      },
      "source": [
        "def F(x):\n",
        "    mu_0 = -0.07162321986817881; sigma_0=0.9786143952464068\n",
        "    mu_1 = 3.0331569084051404; sigma_1=0.9657104699795493\n",
        "    p_x_w0 = stats.norm.pdf(x,loc = mu_0, scale = sigma_0)\n",
        "    p_x_w1 = stats.norm.pdf(x,loc = mu_1, scale = sigma_1)\n",
        "    p_w0_x = p_x_w0 * p_w0\n",
        "    p_w1_x = p_x_w1 * p_w1\n",
        "\n",
        "    return p_w0_x-p_w1_x"
      ],
      "execution_count": null,
      "outputs": []
    },
    {
      "cell_type": "code",
      "metadata": {
        "id": "Vks7NESmiu5H"
      },
      "source": [
        "import scipy.optimize"
      ],
      "execution_count": null,
      "outputs": []
    },
    {
      "cell_type": "code",
      "metadata": {
        "id": "bkn8GWzkiu5H"
      },
      "source": [
        "solucion = scipy.optimize.broyden1(F, 2, f_tol=1e-12)\n",
        "solucion"
      ],
      "execution_count": null,
      "outputs": []
    },
    {
      "cell_type": "markdown",
      "metadata": {
        "id": "rmc4wM2Yiu5H"
      },
      "source": [
        "## Algoritmo LDA (Linear Discriminant Analysis) caso bivariado"
      ]
    },
    {
      "cell_type": "markdown",
      "metadata": {
        "id": "CAwwbq20iu5I"
      },
      "source": [
        "### Generación de clusters bivariados"
      ]
    },
    {
      "cell_type": "code",
      "metadata": {
        "id": "Cv6qlfftiu5I"
      },
      "source": [
        "n1=100\n",
        "mu1 = [0.1,0.1]\n",
        "Sigma1 = [[0.3**2, 0.6*0.3*0.2],[0.6*0.3*0.2,0.2**2]]\n",
        "\n",
        "n2=100\n",
        "mu2 = [0.7,0.7]\n",
        "Sigma2 = [[0.2**2, -0.7*0.3*0.2],[-0.7*0.3*0.2,0.3**2]]"
      ],
      "execution_count": null,
      "outputs": []
    },
    {
      "cell_type": "code",
      "metadata": {
        "scrolled": true,
        "id": "_HOFACdwiu5J"
      },
      "source": [
        "# Generación de los datos aleatorios\n",
        "X1 = np.random.multivariate_normal(mu1,Sigma1, n1)\n",
        "X2 = np.random.multivariate_normal(mu2,Sigma2, n2)\n",
        "plt.plot(X1[:,0],X1[:,1],'.b', alpha=0.7)\n",
        "plt.plot(X2[:,0],X2[:,1],'.r', alpha=0.7)\n",
        "# Gráfico del cuadrado con lados de 2-sigma centrado en mu\n",
        "s1=np.sqrt(Sigma1[0][0])\n",
        "s2=np.sqrt(Sigma1[1][1])\n",
        "x_cuad = [mu1[0]-s1,mu1[0]+s1, mu1[0]+s1,mu1[0]-s1,mu1[0]-s1]\n",
        "y_cuad = [mu1[1]-s2,mu1[1]-s2,mu1[1]+s2,mu1[0]+s2,mu1[1]-s2]\n",
        "plt.plot(x_cuad,y_cuad,'-b')\n",
        "s1=np.sqrt(Sigma2[0][0])\n",
        "s2=np.sqrt(Sigma2[1][1])\n",
        "x_cuad = [mu2[0]-s1,mu2[0]+s1, mu2[0]+s1,mu2[0]-s1,mu2[0]-s1]\n",
        "y_cuad = [mu2[1]-s2,mu2[1]-s2,mu2[1]+s2,mu2[0]+s2,mu2[1]-s2]\n",
        "plt.plot(x_cuad,y_cuad,'-r')"
      ],
      "execution_count": null,
      "outputs": []
    },
    {
      "cell_type": "markdown",
      "metadata": {
        "collapsed": true,
        "id": "pI5HjzkNiu5K"
      },
      "source": [
        "## Estimar los parámetros de cada clase"
      ]
    },
    {
      "cell_type": "code",
      "metadata": {
        "id": "AwuIYLx0iu5L"
      },
      "source": [
        "# Clase 1:\n",
        "mu1_est = np.matrix(np.mean(X1,0)).T\n",
        "Sigma_1_est=np.matrix(np.cov(X1.T))\n",
        "# comparar con mu1 y Sigma1 tienen que ser similares\n",
        "\n",
        "# Clase 2:\n",
        "mu2_est = np.matrix(np.mean(X2,0)).T\n",
        "Sigma_2_est= np.matrix(np.cov(X2.T))\n",
        "# comparar con mu2 y Sigma2 tienen que ser similares"
      ],
      "execution_count": null,
      "outputs": []
    },
    {
      "cell_type": "markdown",
      "metadata": {
        "id": "dL2m1jJhiu5L"
      },
      "source": [
        "### Algoritmo LDA"
      ]
    },
    {
      "cell_type": "code",
      "metadata": {
        "id": "P-8pHE6Diu5M"
      },
      "source": [
        "# Algoritmo LDA\n",
        "Sigma = np.matrix((Sigma_1_est + Sigma_2_est)/2)"
      ],
      "execution_count": null,
      "outputs": []
    },
    {
      "cell_type": "markdown",
      "metadata": {
        "id": "XTSfbSRciu5N"
      },
      "source": [
        "### Ajustar los parámetros del LDA"
      ]
    },
    {
      "cell_type": "code",
      "metadata": {
        "id": "DmB_lCA5iu5O"
      },
      "source": [
        "# Probabilidades a-priori de cada clase\n",
        "p_w1 = 0.7\n",
        "p_w2 = 0.3\n",
        "# Ajuste de parametros\n",
        "W1 = Sigma.I*mu1_est# pendiente clase 1\n",
        "v1 = -0.5*mu1_est.T*Sigma.I*mu1_est + np.log(p_w1) #intercepto\n",
        "\n",
        "W2 = Sigma.I*mu2_est# pendiente clase 2\n",
        "v2 = -0.5*mu2_est.T*Sigma.I*mu2_est + np.log(p_w2) #intercepto"
      ],
      "execution_count": null,
      "outputs": []
    },
    {
      "cell_type": "markdown",
      "metadata": {
        "id": "LtD_SXG2iu5P"
      },
      "source": [
        "### Clasificar un nuevo dato"
      ]
    },
    {
      "cell_type": "code",
      "metadata": {
        "id": "z9ZOW1URiu5Q"
      },
      "source": [
        "x_nuevo = np.matrix([0.6,0.3]).T\n",
        "g1 = W1.T*x_nuevo + v1\n",
        "g2 = W2.T*x_nuevo + v2\n",
        "print(\"El score de la clase 1 es %f, el score de la clase 2 es %f\" %(g1,g2))\n",
        "if g1>g2:\n",
        "    decision = 1\n",
        "else:\n",
        "    decision = 2\n",
        "    \n",
        "print(\"El dato pertenece a la clase \" , decision)"
      ],
      "execution_count": null,
      "outputs": []
    },
    {
      "cell_type": "markdown",
      "metadata": {
        "id": "cOV8Heppiu5Q"
      },
      "source": [
        "## Algoritmo QDA"
      ]
    },
    {
      "cell_type": "code",
      "metadata": {
        "id": "GlP3w1goiu5R"
      },
      "source": [
        "# Probabilidades a-priori de cada clase\n",
        "p_w1 = 0.7\n",
        "p_w2 = 0.3\n",
        "# Ajuste de parametros\n",
        "U1 = -0.5*Sigma_1_est.I\n",
        "W1 = Sigma_1_est.I*mu1_est# pendiente clase 1\n",
        "v1 = -0.5*mu1_est.T*Sigma_1_est.I*mu1_est - 0.5*np.log(np.linalg.det(Sigma_1_est)) + np.log(p_w1) #intercepto\n",
        "\n",
        "U2 = -0.5*Sigma_2_est.I\n",
        "W2 = Sigma_2_est.I*mu2_est# pendiente clase 2\n",
        "v2 = -0.5*mu2_est.T*Sigma_2_est.I*mu2_est - 0.5*np.log(np.linalg.det(Sigma_2_est)) + np.log(p_w2) #intercepto"
      ],
      "execution_count": null,
      "outputs": []
    },
    {
      "cell_type": "code",
      "metadata": {
        "id": "cT2BLX-Uiu5R"
      },
      "source": [
        "x_nuevo"
      ],
      "execution_count": null,
      "outputs": []
    },
    {
      "cell_type": "code",
      "metadata": {
        "id": "KMr57Pkviu5S"
      },
      "source": [
        "x_nuevo = np.matrix([0.6,0.3]).T\n",
        "g1 = x_nuevo.T*U1*x_nuevo + W1.T*x_nuevo + v1\n",
        "g2 = x_nuevo.T*U2*x_nuevo + W2.T*x_nuevo + v2\n",
        "print(\"El score de la clase 1 es %f, el score de la clase 2 es %f\" %(g1,g2))\n",
        "if g1>g2:\n",
        "    decision = 1\n",
        "else:\n",
        "    decision = 2\n",
        "    \n",
        "print(\"El dato pertenece a la clase \" , decision)"
      ],
      "execution_count": null,
      "outputs": []
    },
    {
      "cell_type": "code",
      "metadata": {
        "id": "Ov0JwYPDiu5S"
      },
      "source": [
        ""
      ],
      "execution_count": null,
      "outputs": []
    }
  ]
}